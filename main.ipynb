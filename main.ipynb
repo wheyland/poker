{
  "nbformat": 4,
  "nbformat_minor": 0,
  "metadata": {
    "colab": {
      "provenance": [],
      "authorship_tag": "ABX9TyONiU4QcP9PlvZEbdExLE6F",
      "include_colab_link": true
    },
    "kernelspec": {
      "name": "python3",
      "display_name": "Python 3"
    },
    "language_info": {
      "name": "python"
    }
  },
  "cells": [
    {
      "cell_type": "markdown",
      "metadata": {
        "id": "view-in-github",
        "colab_type": "text"
      },
      "source": [
        "<a href=\"https://colab.research.google.com/github/wheyland/poker/blob/main/main.ipynb\" target=\"_parent\"><img src=\"https://colab.research.google.com/assets/colab-badge.svg\" alt=\"Open In Colab\"/></a>"
      ]
    },
    {
      "cell_type": "code",
      "execution_count": null,
      "metadata": {
        "colab": {
          "base_uri": "https://localhost:8080/"
        },
        "id": "b7MgoEsisDY4",
        "outputId": "f3a41870-06de-4e7b-8862-01941cf7ac96"
      },
      "outputs": [
        {
          "output_type": "stream",
          "name": "stdout",
          "text": [
            "\u001b[31mERROR: Operation cancelled by user\u001b[0m\u001b[31m\n",
            "\u001b[0m"
          ]
        }
      ],
      "source": [
        "!pip3 install rlcard[torch]\n",
        "!pip3 install pettingzoo"
      ]
    },
    {
      "cell_type": "code",
      "source": [
        "import torch\n",
        "import numpy as np\n",
        "import pandas as pd\n",
        "import os\n",
        "import argparse\n",
        "import pettingzoo\n",
        "from pettingzoo.classic import texas_holdem_no_limit_v6\n",
        "import rlcard\n",
        "from rlcard import models\n",
        "from rlcard.agents import NolimitholdemHumanAgent\n",
        "from rlcard.utils import print_card\n",
        "from rlcard.agents.dqn_agent import Transition"
      ],
      "metadata": {
        "id": "RPqeXVWPsFeb"
      },
      "execution_count": null,
      "outputs": []
    }
  ]
}